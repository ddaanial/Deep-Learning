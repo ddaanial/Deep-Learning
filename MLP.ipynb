{
 "cells": [
  {
   "cell_type": "markdown",
   "metadata": {},
   "source": [
    "<img src='http://www-scf.usc.edu/~ghasemig/images/sharif.png' alt=\"SUT logo\" width=200 height=200 align=left class=\"saturate\" >\n",
    "\n",
    "<br>\n",
    "<font face=\"Times New Roman\">\n",
    "<div dir=ltr align=center>\n",
    "<font color=0F5298 size=7>\n",
    "    ML for Bioinformatics <br>\n",
    "<font color=2565AE size=5>\n",
    "    Computer Engineering Department <br>\n",
    "<font color=3C99D size=5>\n",
    "    Homework 3: Practical - Multi-Layer Perceptron (VAE) <br>\n",
    "<font color=696880 size=4>\n",
    "    Sobhan Moghimi (sobhanmoghimi45@gmail.com) <br>\n",
    "    Fakhredin Abdi (fakhredinabdi80@gmail.com) <br>\n",
    "    \n",
    "____\n"
   ]
  },
  {
   "cell_type": "markdown",
   "metadata": {},
   "source": [
    "### Full Name : Danial Ahangarani\n",
    "### Student Number : 400211546\n",
    "__"
   ]
  },
  {
   "cell_type": "markdown",
   "metadata": {
    "id": "Hnkccv8vVT-o"
   },
   "source": [
    "# Description"
   ]
  },
  {
   "cell_type": "markdown",
   "metadata": {
    "id": "A9Itv81cfTG4"
   },
   "source": [
    "**In this assignment you'll be working with Dorothea Dataset.**\n",
    "\n",
    "DOROTHEA is a drug discovery dataset. Chemical compounds represented by structural molecular features must be classified as active (binding to thrombin) or inactive.\n",
    "To find out more about dataset, refer to this link: https://archive.ics.uci.edu/ml/datasets/Dorothea\n",
    "\n",
    "You should implement a classifier with Neural Networks and for this purpose we will be using PyTorch as framework."
   ]
  },
  {
   "cell_type": "markdown",
   "metadata": {
    "id": "zqSzHiJuUh7V"
   },
   "source": [
    "# Importing libraries, modules and Dataset."
   ]
  },
  {
   "cell_type": "markdown",
   "metadata": {
    "id": "TlMDVS1gV08L"
   },
   "source": [
    "In this part, import all the libraries and modules needed to solve the problem."
   ]
  },
  {
   "cell_type": "code",
   "execution_count": 1,
   "metadata": {
    "id": "WgjSY5BaViF2"
   },
   "outputs": [],
   "source": [
    "import os\n",
    "import random \n",
    "import torch \n",
    "import torch.nn as nn\n",
    "import numpy as np\n",
    "from sklearn.preprocessing import StandardScaler\n",
    "import imblearn\n",
    "from imblearn.over_sampling import SMOTE\n",
    "from sklearn.decomposition import PCA\n",
    "from sklearn.utils import resample\n",
    "import matplotlib.pyplot as plt\n",
    "from sklearn.metrics import accuracy_score, precision_score, recall_score, f1_score\n",
    "from sklearn.metrics import confusion_matrix\n",
    "import seaborn as sns"
   ]
  },
  {
   "cell_type": "markdown",
   "metadata": {
    "id": "RSBb23wYV2Ho"
   },
   "source": [
    "Now import the train and test data from dataset."
   ]
  },
  {
   "cell_type": "code",
   "execution_count": 91,
   "metadata": {
    "id": "jNaH5szYV9Y4"
   },
   "outputs": [],
   "source": [
    "# Reading files\n",
    "def convert(path):\n",
    "    # Read the dataset from a file\n",
    "    with open(path, \"r\") as f:\n",
    "        lines = f.readlines()\n",
    "\n",
    "    # Initialize the nd array with zeros\n",
    "    num_rows = len(lines)\n",
    "    num_cols = max([int(val) for line in lines for val in line.strip().split(\" \")])\n",
    "    dataset = np.zeros((num_rows, num_cols))\n",
    "\n",
    "    # Fill the nd array with the binary data\n",
    "    for i, line in enumerate(lines):\n",
    "        for j in line.strip().split(\" \"):\n",
    "            dataset[i,int(j)-1] = 1.0\n",
    "\n",
    "    # return the nd array\n",
    "    return dataset\n",
    "X_train = convert('data/dorothea_train.data')\n",
    "X_val = convert('data/dorothea_valid.data')\n",
    "X_test = convert('data/dorothea_test.data')\n",
    "\n",
    "y_train = []\n",
    "with open('data/dorothea_train.labels', 'r') as f:\n",
    "    for line in f:\n",
    "        row = list(map(int, line.strip().split(' ')))\n",
    "        y_train.append(row)\n",
    "        \n",
    "y_val = []\n",
    "with open('data/dorothea_valid.labels', 'r') as f:\n",
    "    for line in f:\n",
    "        row = list(map(int, line.strip().split(' ')))\n",
    "        y_val.append(row)\n"
   ]
  },
  {
   "cell_type": "markdown",
   "metadata": {
    "id": "RgEJNhp_UiEa"
   },
   "source": [
    "## Normalize\n",
    "You can normalize your data using <code>Scikit-Learn</code> modules here."
   ]
  },
  {
   "cell_type": "code",
   "execution_count": 92,
   "metadata": {},
   "outputs": [],
   "source": [
    "# create a scaler object\n",
    "scaler = StandardScaler()\n",
    "\n",
    "# fit and transform the training data\n",
    "X_train = scaler.fit_transform(X_train)\n",
    "\n",
    "# transform the validation and test data using the scaler\n",
    "X_val = scaler.transform(X_val)\n",
    "X_test = scaler.transform(X_test)\n"
   ]
  },
  {
   "cell_type": "markdown",
   "metadata": {
    "id": "pQVOozI3Gjdv"
   },
   "source": [
    "## Dimensionality Reduction\n",
    "There are too many attributes for each instance of dataset. We will suffer from sparse data and long training phase. Thus you can reduce dimensions to get better accuracy. \n",
    "\n",
    "Principal component analysis (PCA) is the process of computing the principal components and using them to perform a change of basis on the data.\n",
    "\n",
    "Apply PCA on Dorothea dataSet using <code>Scikit-Learn</code>."
   ]
  },
  {
   "cell_type": "code",
   "execution_count": 56,
   "metadata": {
    "id": "wrdakV-5ZsRP"
   },
   "outputs": [],
   "source": [
    "# create a PCA object\n",
    "pca = PCA(n_components=0.95)\n",
    "\n",
    "# fit the PCA object on the X_train dataset and transform it\n",
    "X_train = pca.fit_transform(X_train)\n",
    "\n",
    "# transform the validation and test datasets using the trained PCA object\n",
    "X_val = pca.transform(X_val)\n",
    "X_test = pca.transform(X_test)\n"
   ]
  },
  {
   "cell_type": "markdown",
   "metadata": {},
   "source": [
    "#### I did not use pca because it reduced the accuracy"
   ]
  },
  {
   "cell_type": "code",
   "execution_count": 93,
   "metadata": {},
   "outputs": [],
   "source": [
    "X_train = torch.tensor(X_train)\n",
    "y_train = torch.tensor(y_train)\n",
    "X_val = torch.tensor(X_val)\n",
    "y_val = torch.tensor(y_val)\n",
    "X_test = torch.tensor(X_test)\n",
    "\n",
    "y_train = torch.where(y_train == -1, torch.tensor(0), torch.tensor(1))\n",
    "y_val = torch.where(y_val == -1, torch.tensor(0), torch.tensor(1))"
   ]
  },
  {
   "cell_type": "code",
   "execution_count": 94,
   "metadata": {},
   "outputs": [],
   "source": [
    "# Create a SMOTE object with desired parameters\n",
    "smote = SMOTE(sampling_strategy='minority')\n",
    "\n",
    "# Fit and apply SMOTE to the minority class\n",
    "X_train, y_train = smote.fit_resample(X_train, y_train)\n"
   ]
  },
  {
   "cell_type": "code",
   "execution_count": 95,
   "metadata": {},
   "outputs": [],
   "source": [
    "X_train = torch.tensor(X_train)\n",
    "y_train = torch.tensor(y_train)"
   ]
  },
  {
   "cell_type": "markdown",
   "metadata": {
    "id": "jFTEH0H23BtL"
   },
   "source": [
    "# Define Model\n",
    "\n"
   ]
  },
  {
   "cell_type": "code",
   "execution_count": 96,
   "metadata": {
    "id": "1z8_ahC_3S5f"
   },
   "outputs": [],
   "source": [
    "# Define your model in here\n",
    "\n",
    "class BinaryClassifier(nn.Module):\n",
    "    def __init__(self, input_size, hidden_size):\n",
    "        super(BinaryClassifier, self).__init__()\n",
    "        \n",
    "        self.hidden_layer = nn.Linear(input_size, hidden_size)\n",
    "        self.output_layer = nn.Linear(hidden_size, 1)\n",
    "        \n",
    "        self.sigmoid = nn.Sigmoid()\n",
    "        \n",
    "    def forward(self, x):\n",
    "        h = self.sigmoid(self.hidden_layer(x))\n",
    "        y = self.sigmoid(self.output_layer(h))\n",
    "        return y"
   ]
  },
  {
   "cell_type": "markdown",
   "metadata": {
    "id": "IGUFUbsw3n9A"
   },
   "source": [
    "# Train the model"
   ]
  },
  {
   "cell_type": "markdown",
   "metadata": {
    "id": "YDrS8le13n25"
   },
   "source": [
    "**Initialize model, define hyperparameters, optimizer, loss function, etc.**\n",
    "\n"
   ]
  },
  {
   "cell_type": "code",
   "execution_count": 98,
   "metadata": {
    "id": "YV0FgUYc4J-Y"
   },
   "outputs": [
    {
     "name": "stdout",
     "output_type": "stream",
     "text": [
      "Epoch [1/200], Loss: 0.7222, Accuracy: 0.50%\n",
      "Epoch [2/200], Loss: 0.7192, Accuracy: 0.50%\n",
      "Epoch [3/200], Loss: 0.7162, Accuracy: 0.50%\n",
      "Epoch [4/200], Loss: 0.7132, Accuracy: 0.50%\n",
      "Epoch [5/200], Loss: 0.7103, Accuracy: 0.50%\n",
      "Epoch [6/200], Loss: 0.7075, Accuracy: 0.50%\n",
      "Epoch [7/200], Loss: 0.7046, Accuracy: 0.50%\n",
      "Epoch [8/200], Loss: 0.7018, Accuracy: 0.50%\n",
      "Epoch [9/200], Loss: 0.6990, Accuracy: 0.50%\n",
      "Epoch [10/200], Loss: 0.6962, Accuracy: 0.50%\n",
      "Epoch [11/200], Loss: 0.6935, Accuracy: 0.50%\n",
      "Epoch [12/200], Loss: 0.6908, Accuracy: 0.50%\n",
      "Epoch [13/200], Loss: 0.6881, Accuracy: 0.50%\n",
      "Epoch [14/200], Loss: 0.6854, Accuracy: 0.50%\n",
      "Epoch [15/200], Loss: 0.6828, Accuracy: 0.50%\n",
      "Epoch [16/200], Loss: 0.6802, Accuracy: 0.50%\n",
      "Epoch [17/200], Loss: 0.6776, Accuracy: 0.50%\n",
      "Epoch [18/200], Loss: 0.6751, Accuracy: 0.50%\n",
      "Epoch [19/200], Loss: 0.6726, Accuracy: 0.50%\n",
      "Epoch [20/200], Loss: 0.6701, Accuracy: 0.50%\n",
      "Epoch [21/200], Loss: 0.6676, Accuracy: 0.50%\n",
      "Epoch [22/200], Loss: 0.6651, Accuracy: 0.50%\n",
      "Epoch [23/200], Loss: 0.6627, Accuracy: 0.50%\n",
      "Epoch [24/200], Loss: 0.6603, Accuracy: 0.50%\n",
      "Epoch [25/200], Loss: 0.6579, Accuracy: 0.50%\n",
      "Epoch [26/200], Loss: 0.6556, Accuracy: 0.50%\n",
      "Epoch [27/200], Loss: 0.6532, Accuracy: 0.50%\n",
      "Epoch [28/200], Loss: 0.6509, Accuracy: 0.50%\n",
      "Epoch [29/200], Loss: 0.6486, Accuracy: 0.50%\n",
      "Epoch [30/200], Loss: 0.6464, Accuracy: 0.50%\n",
      "Epoch [31/200], Loss: 0.6441, Accuracy: 0.50%\n",
      "Epoch [32/200], Loss: 0.6419, Accuracy: 0.50%\n",
      "Epoch [33/200], Loss: 0.6397, Accuracy: 0.50%\n",
      "Epoch [34/200], Loss: 0.6375, Accuracy: 0.50%\n",
      "Epoch [35/200], Loss: 0.6353, Accuracy: 0.50%\n",
      "Epoch [36/200], Loss: 0.6331, Accuracy: 0.50%\n",
      "Epoch [37/200], Loss: 0.6310, Accuracy: 0.50%\n",
      "Epoch [38/200], Loss: 0.6289, Accuracy: 0.50%\n",
      "Epoch [39/200], Loss: 0.6268, Accuracy: 0.50%\n",
      "Epoch [40/200], Loss: 0.6247, Accuracy: 0.50%\n",
      "Epoch [41/200], Loss: 0.6227, Accuracy: 0.50%\n",
      "Epoch [42/200], Loss: 0.6206, Accuracy: 0.50%\n",
      "Epoch [43/200], Loss: 0.6186, Accuracy: 0.50%\n",
      "Epoch [44/200], Loss: 0.6166, Accuracy: 0.50%\n",
      "Epoch [45/200], Loss: 0.6146, Accuracy: 0.50%\n",
      "Epoch [46/200], Loss: 0.6126, Accuracy: 0.50%\n",
      "Epoch [47/200], Loss: 0.6107, Accuracy: 0.50%\n",
      "Epoch [48/200], Loss: 0.6087, Accuracy: 0.50%\n",
      "Epoch [49/200], Loss: 0.6068, Accuracy: 0.50%\n",
      "Epoch [50/200], Loss: 0.6049, Accuracy: 0.50%\n",
      "Epoch [51/200], Loss: 0.6030, Accuracy: 0.50%\n",
      "Epoch [52/200], Loss: 0.6011, Accuracy: 0.50%\n",
      "Epoch [53/200], Loss: 0.5992, Accuracy: 0.50%\n",
      "Epoch [54/200], Loss: 0.5974, Accuracy: 0.50%\n",
      "Epoch [55/200], Loss: 0.5956, Accuracy: 0.50%\n",
      "Epoch [56/200], Loss: 0.5937, Accuracy: 0.50%\n",
      "Epoch [57/200], Loss: 0.5919, Accuracy: 0.50%\n",
      "Epoch [58/200], Loss: 0.5901, Accuracy: 0.51%\n",
      "Epoch [59/200], Loss: 0.5883, Accuracy: 0.51%\n",
      "Epoch [60/200], Loss: 0.5866, Accuracy: 0.51%\n",
      "Epoch [61/200], Loss: 0.5848, Accuracy: 0.51%\n",
      "Epoch [62/200], Loss: 0.5831, Accuracy: 0.51%\n",
      "Epoch [63/200], Loss: 0.5814, Accuracy: 0.51%\n",
      "Epoch [64/200], Loss: 0.5796, Accuracy: 0.51%\n",
      "Epoch [65/200], Loss: 0.5779, Accuracy: 0.51%\n",
      "Epoch [66/200], Loss: 0.5762, Accuracy: 0.51%\n",
      "Epoch [67/200], Loss: 0.5746, Accuracy: 0.51%\n",
      "Epoch [68/200], Loss: 0.5729, Accuracy: 0.51%\n",
      "Epoch [69/200], Loss: 0.5712, Accuracy: 0.51%\n",
      "Epoch [70/200], Loss: 0.5696, Accuracy: 0.51%\n",
      "Epoch [71/200], Loss: 0.5680, Accuracy: 0.51%\n",
      "Epoch [72/200], Loss: 0.5664, Accuracy: 0.52%\n",
      "Epoch [73/200], Loss: 0.5647, Accuracy: 0.52%\n",
      "Epoch [74/200], Loss: 0.5632, Accuracy: 0.52%\n",
      "Epoch [75/200], Loss: 0.5616, Accuracy: 0.52%\n",
      "Epoch [76/200], Loss: 0.5600, Accuracy: 0.52%\n",
      "Epoch [77/200], Loss: 0.5584, Accuracy: 0.53%\n",
      "Epoch [78/200], Loss: 0.5569, Accuracy: 0.53%\n",
      "Epoch [79/200], Loss: 0.5553, Accuracy: 0.53%\n",
      "Epoch [80/200], Loss: 0.5538, Accuracy: 0.53%\n",
      "Epoch [81/200], Loss: 0.5523, Accuracy: 0.54%\n",
      "Epoch [82/200], Loss: 0.5508, Accuracy: 0.54%\n",
      "Epoch [83/200], Loss: 0.5493, Accuracy: 0.54%\n",
      "Epoch [84/200], Loss: 0.5478, Accuracy: 0.55%\n",
      "Epoch [85/200], Loss: 0.5463, Accuracy: 0.55%\n",
      "Epoch [86/200], Loss: 0.5448, Accuracy: 0.56%\n",
      "Epoch [87/200], Loss: 0.5434, Accuracy: 0.56%\n",
      "Epoch [88/200], Loss: 0.5419, Accuracy: 0.57%\n",
      "Epoch [89/200], Loss: 0.5405, Accuracy: 0.57%\n",
      "Epoch [90/200], Loss: 0.5390, Accuracy: 0.58%\n",
      "Epoch [91/200], Loss: 0.5376, Accuracy: 0.59%\n",
      "Epoch [92/200], Loss: 0.5362, Accuracy: 0.59%\n",
      "Epoch [93/200], Loss: 0.5348, Accuracy: 0.60%\n",
      "Epoch [94/200], Loss: 0.5334, Accuracy: 0.61%\n",
      "Epoch [95/200], Loss: 0.5320, Accuracy: 0.61%\n",
      "Epoch [96/200], Loss: 0.5306, Accuracy: 0.62%\n",
      "Epoch [97/200], Loss: 0.5293, Accuracy: 0.63%\n",
      "Epoch [98/200], Loss: 0.5279, Accuracy: 0.63%\n",
      "Epoch [99/200], Loss: 0.5265, Accuracy: 0.64%\n",
      "Epoch [100/200], Loss: 0.5252, Accuracy: 0.65%\n",
      "Epoch [101/200], Loss: 0.5239, Accuracy: 0.66%\n",
      "Epoch [102/200], Loss: 0.5225, Accuracy: 0.67%\n",
      "Epoch [103/200], Loss: 0.5212, Accuracy: 0.68%\n",
      "Epoch [104/200], Loss: 0.5199, Accuracy: 0.69%\n",
      "Epoch [105/200], Loss: 0.5186, Accuracy: 0.70%\n",
      "Epoch [106/200], Loss: 0.5173, Accuracy: 0.70%\n",
      "Epoch [107/200], Loss: 0.5160, Accuracy: 0.71%\n",
      "Epoch [108/200], Loss: 0.5147, Accuracy: 0.72%\n",
      "Epoch [109/200], Loss: 0.5135, Accuracy: 0.74%\n",
      "Epoch [110/200], Loss: 0.5122, Accuracy: 0.75%\n",
      "Epoch [111/200], Loss: 0.5109, Accuracy: 0.76%\n",
      "Epoch [112/200], Loss: 0.5097, Accuracy: 0.78%\n",
      "Epoch [113/200], Loss: 0.5084, Accuracy: 0.79%\n",
      "Epoch [114/200], Loss: 0.5072, Accuracy: 0.80%\n",
      "Epoch [115/200], Loss: 0.5060, Accuracy: 0.80%\n",
      "Epoch [116/200], Loss: 0.5047, Accuracy: 0.82%\n",
      "Epoch [117/200], Loss: 0.5035, Accuracy: 0.83%\n",
      "Epoch [118/200], Loss: 0.5023, Accuracy: 0.84%\n",
      "Epoch [119/200], Loss: 0.5011, Accuracy: 0.84%\n",
      "Epoch [120/200], Loss: 0.4999, Accuracy: 0.86%\n",
      "Epoch [121/200], Loss: 0.4987, Accuracy: 0.87%\n",
      "Epoch [122/200], Loss: 0.4975, Accuracy: 0.88%\n",
      "Epoch [123/200], Loss: 0.4964, Accuracy: 0.89%\n",
      "Epoch [124/200], Loss: 0.4952, Accuracy: 0.90%\n",
      "Epoch [125/200], Loss: 0.4940, Accuracy: 0.90%\n",
      "Epoch [126/200], Loss: 0.4929, Accuracy: 0.90%\n",
      "Epoch [127/200], Loss: 0.4917, Accuracy: 0.91%\n",
      "Epoch [128/200], Loss: 0.4906, Accuracy: 0.92%\n",
      "Epoch [129/200], Loss: 0.4895, Accuracy: 0.92%\n",
      "Epoch [130/200], Loss: 0.4883, Accuracy: 0.93%\n",
      "Epoch [131/200], Loss: 0.4872, Accuracy: 0.93%\n",
      "Epoch [132/200], Loss: 0.4861, Accuracy: 0.94%\n",
      "Epoch [133/200], Loss: 0.4850, Accuracy: 0.94%\n",
      "Epoch [134/200], Loss: 0.4839, Accuracy: 0.94%\n",
      "Epoch [135/200], Loss: 0.4828, Accuracy: 0.95%\n",
      "Epoch [136/200], Loss: 0.4817, Accuracy: 0.95%\n",
      "Epoch [137/200], Loss: 0.4806, Accuracy: 0.96%\n",
      "Epoch [138/200], Loss: 0.4795, Accuracy: 0.96%\n",
      "Epoch [139/200], Loss: 0.4784, Accuracy: 0.96%\n",
      "Epoch [140/200], Loss: 0.4773, Accuracy: 0.97%\n",
      "Epoch [141/200], Loss: 0.4763, Accuracy: 0.97%\n",
      "Epoch [142/200], Loss: 0.4752, Accuracy: 0.97%\n",
      "Epoch [143/200], Loss: 0.4742, Accuracy: 0.97%\n",
      "Epoch [144/200], Loss: 0.4731, Accuracy: 0.97%\n",
      "Epoch [145/200], Loss: 0.4721, Accuracy: 0.97%\n",
      "Epoch [146/200], Loss: 0.4710, Accuracy: 0.98%\n",
      "Epoch [147/200], Loss: 0.4700, Accuracy: 0.98%\n",
      "Epoch [148/200], Loss: 0.4690, Accuracy: 0.98%\n",
      "Epoch [149/200], Loss: 0.4679, Accuracy: 0.98%\n",
      "Epoch [150/200], Loss: 0.4669, Accuracy: 0.98%\n",
      "Epoch [151/200], Loss: 0.4659, Accuracy: 0.98%\n",
      "Epoch [152/200], Loss: 0.4649, Accuracy: 0.99%\n",
      "Epoch [153/200], Loss: 0.4639, Accuracy: 0.99%\n",
      "Epoch [154/200], Loss: 0.4629, Accuracy: 0.99%\n",
      "Epoch [155/200], Loss: 0.4619, Accuracy: 0.99%\n",
      "Epoch [156/200], Loss: 0.4609, Accuracy: 0.99%\n",
      "Epoch [157/200], Loss: 0.4599, Accuracy: 0.99%\n",
      "Epoch [158/200], Loss: 0.4589, Accuracy: 0.99%\n",
      "Epoch [159/200], Loss: 0.4580, Accuracy: 0.99%\n",
      "Epoch [160/200], Loss: 0.4570, Accuracy: 0.99%\n",
      "Epoch [161/200], Loss: 0.4560, Accuracy: 0.99%\n",
      "Epoch [162/200], Loss: 0.4551, Accuracy: 0.99%\n",
      "Epoch [163/200], Loss: 0.4541, Accuracy: 0.99%\n",
      "Epoch [164/200], Loss: 0.4532, Accuracy: 0.99%\n",
      "Epoch [165/200], Loss: 0.4522, Accuracy: 0.99%\n",
      "Epoch [166/200], Loss: 0.4513, Accuracy: 0.99%\n",
      "Epoch [167/200], Loss: 0.4503, Accuracy: 0.99%\n",
      "Epoch [168/200], Loss: 0.4494, Accuracy: 0.99%\n",
      "Epoch [169/200], Loss: 0.4485, Accuracy: 0.99%\n",
      "Epoch [170/200], Loss: 0.4475, Accuracy: 0.99%\n",
      "Epoch [171/200], Loss: 0.4466, Accuracy: 0.99%\n",
      "Epoch [172/200], Loss: 0.4457, Accuracy: 0.99%\n",
      "Epoch [173/200], Loss: 0.4448, Accuracy: 0.99%\n",
      "Epoch [174/200], Loss: 0.4439, Accuracy: 0.99%\n",
      "Epoch [175/200], Loss: 0.4430, Accuracy: 0.99%\n",
      "Epoch [176/200], Loss: 0.4421, Accuracy: 0.99%\n",
      "Epoch [177/200], Loss: 0.4412, Accuracy: 0.99%\n",
      "Epoch [178/200], Loss: 0.4403, Accuracy: 0.99%\n"
     ]
    },
    {
     "name": "stdout",
     "output_type": "stream",
     "text": [
      "Epoch [179/200], Loss: 0.4394, Accuracy: 0.99%\n",
      "Epoch [180/200], Loss: 0.4385, Accuracy: 0.99%\n",
      "Epoch [181/200], Loss: 0.4376, Accuracy: 0.99%\n",
      "Epoch [182/200], Loss: 0.4368, Accuracy: 0.99%\n",
      "Epoch [183/200], Loss: 0.4359, Accuracy: 0.99%\n",
      "Epoch [184/200], Loss: 0.4350, Accuracy: 0.99%\n",
      "Epoch [185/200], Loss: 0.4341, Accuracy: 0.99%\n",
      "Epoch [186/200], Loss: 0.4333, Accuracy: 0.99%\n",
      "Epoch [187/200], Loss: 0.4324, Accuracy: 0.99%\n",
      "Epoch [188/200], Loss: 0.4316, Accuracy: 0.99%\n",
      "Epoch [189/200], Loss: 0.4307, Accuracy: 0.99%\n",
      "Epoch [190/200], Loss: 0.4299, Accuracy: 0.99%\n",
      "Epoch [191/200], Loss: 0.4290, Accuracy: 0.99%\n",
      "Epoch [192/200], Loss: 0.4282, Accuracy: 0.99%\n",
      "Epoch [193/200], Loss: 0.4274, Accuracy: 0.99%\n",
      "Epoch [194/200], Loss: 0.4265, Accuracy: 0.99%\n",
      "Epoch [195/200], Loss: 0.4257, Accuracy: 0.99%\n",
      "Epoch [196/200], Loss: 0.4249, Accuracy: 0.99%\n",
      "Epoch [197/200], Loss: 0.4240, Accuracy: 0.99%\n",
      "Epoch [198/200], Loss: 0.4232, Accuracy: 0.99%\n",
      "Epoch [199/200], Loss: 0.4224, Accuracy: 0.99%\n",
      "Epoch [200/200], Loss: 0.4216, Accuracy: 0.99%\n"
     ]
    }
   ],
   "source": [
    "model = BinaryClassifier(input_size=100000, hidden_size=128)\n",
    "criterion = nn.BCELoss()\n",
    "optimizer = torch.optim.SGD(model.parameters(), lr=0.001)\n",
    "num_epochs = 200\n",
    "\n",
    "loss_history = []\n",
    "accuracy_history = []\n",
    "\n",
    "for epoch in range(num_epochs):\n",
    "    # Forward pass\n",
    "    X_train = X_train.to(model.hidden_layer.weight.dtype)\n",
    "    outputs = model(X_train)\n",
    "    y_train = y_train.to(outputs.dtype)\n",
    "    loss = criterion(outputs.squeeze(), y_train.squeeze())\n",
    "\n",
    "    # Backward and optimize\n",
    "    optimizer.zero_grad()\n",
    "    loss.backward()\n",
    "    optimizer.step()\n",
    "\n",
    "\n",
    "    predicted = (outputs > 0.5).float()\n",
    "\n",
    "    accuracy = (predicted.squeeze() == y_train.squeeze()).sum().item() / len(y_train)\n",
    "    print('Epoch [{}/{}], Loss: {:.4f}, Accuracy: {:.2f}%'\n",
    "          .format(epoch+1, num_epochs, loss.item(), accuracy))\n",
    "\n",
    "    # Record loss and accuracy history for plotting\n",
    "    loss_history.append(loss.item())\n",
    "    accuracy_history.append(accuracy)\n"
   ]
  },
  {
   "cell_type": "markdown",
   "metadata": {
    "id": "L2Fnamnk4LTV"
   },
   "source": [
    "**After the training process, plot metrics such as loss function values.**"
   ]
  },
  {
   "cell_type": "code",
   "execution_count": 100,
   "metadata": {
    "id": "3br2A_3x7tLY"
   },
   "outputs": [
    {
     "data": {
      "image/png": "[encoded data removed]",
      "text/plain": [
       "<Figure size 640x480 with 2 Axes>"
      ]
     },
     "metadata": {},
     "output_type": "display_data"
    }
   ],
   "source": [
    "\n",
    "fig, ax1 = plt.subplots()\n",
    "\n",
    "color = 'tab:red'\n",
    "ax1.set_xlabel('Epochs')\n",
    "ax1.set_ylabel('Loss', color=color)\n",
    "ax1.plot(range(num_epochs), loss_history, color=color)\n",
    "ax1.tick_params(axis='y', labelcolor=color)\n",
    "\n",
    "ax2 = ax1.twinx()\n",
    "\n",
    "color = 'tab:blue'\n",
    "ax2.set_ylabel('Accuracy (%)', color=color)\n",
    "ax2.plot(range(num_epochs), [acc * 100 for acc in accuracy_history], color=color)\n",
    "ax2.tick_params(axis='y', labelcolor=color)\n",
    "\n",
    "fig.tight_layout()\n",
    "plt.show()"
   ]
  },
  {
   "cell_type": "markdown",
   "metadata": {
    "id": "vbwXdL9Ph2jD"
   },
   "source": [
    "# Testing\n",
    "After training, test your model on test dataset and compute performance metrics. "
   ]
  },
  {
   "cell_type": "code",
   "execution_count": 101,
   "metadata": {
    "id": "hzuhWfc3ia5s"
   },
   "outputs": [
    {
     "name": "stdout",
     "output_type": "stream",
     "text": [
      "Accuracy: 0.92\n",
      "Precision: 0.7799145299145299\n",
      "Recall: 0.7194713328369322\n",
      "F1 Score: 0.7447916666666666\n"
     ]
    }
   ],
   "source": [
    "# Make predictions on the test data\n",
    "X_val = X_val.to(model.hidden_layer.weight.dtype)\n",
    "outputs = model(X_val)\n",
    "predictions = (outputs > 0.5).float()\n",
    "\n",
    "# Compute performance metrics\n",
    "accuracy = accuracy_score(y_val, predictions)\n",
    "precision = precision_score(y_val, predictions, average='macro')\n",
    "recall = recall_score(y_val, predictions, average='macro')\n",
    "f1score = f1_score(y_val, predictions, average='macro')\n",
    "\n",
    "# Print the performance metrics\n",
    "print('Accuracy:', accuracy)\n",
    "print('Precision:', precision)\n",
    "print('Recall:', recall)\n",
    "print('F1 Score:', f1score)"
   ]
  },
  {
   "cell_type": "markdown",
   "metadata": {
    "id": "vqQpZsTEh2gL"
   },
   "source": [
    "Show confusion matrix of your model."
   ]
  },
  {
   "cell_type": "code",
   "execution_count": 102,
   "metadata": {
    "id": "Kl9VOLgdiFMg"
   },
   "outputs": [
    {
     "data": {
      "image/png": "[encoded data removed]",
      "text/plain": [
       "<Figure size 640x480 with 2 Axes>"
      ]
     },
     "metadata": {},
     "output_type": "display_data"
    }
   ],
   "source": [
    "cm = confusion_matrix(y_val, predictions)\n",
    "\n",
    "# Create a heatmap visualization of the confusion matrix using seaborn\n",
    "sns.heatmap(cm, annot=True, cmap='Blues')\n",
    "plt.show()"
   ]
  }
 ],
 "metadata": {
  "colab": {
   "collapsed_sections": [
    "Hnkccv8vVT-o",
    "RgEJNhp_UiEa",
    "pQVOozI3Gjdv",
    "jFTEH0H23BtL",
    "IGUFUbsw3n9A",
    "vbwXdL9Ph2jD"
   ],
   "provenance": []
  },
  "kernelspec": {
   "display_name": "Python 3 (ipykernel)",
   "language": "python",
   "name": "python3"
  },
  "language_info": {
   "codemirror_mode": {
    "name": "ipython",
    "version": 3
   },
   "file_extension": ".py",
   "mimetype": "text/x-python",
   "name": "python",
   "nbconvert_exporter": "python",
   "pygments_lexer": "ipython3",
   "version": "3.8.15"
  }
 },
 "nbformat": 4,
 "nbformat_minor": 1
}
